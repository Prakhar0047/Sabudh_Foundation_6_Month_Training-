{
  "nbformat": 4,
  "nbformat_minor": 0,
  "metadata": {
    "colab": {
      "name": "Week_Of_Coding_Week_3.ipynb",
      "provenance": []
    },
    "kernelspec": {
      "name": "python3",
      "display_name": "Python 3"
    },
    "language_info": {
      "name": "python"
    }
  },
  "cells": [
    {
      "cell_type": "markdown",
      "metadata": {
        "id": "sreA-YQ_jASU"
      },
      "source": [
        "# ques 1. \n",
        "# a. Write a numpy program to get the unique elements of an array.\n",
        "#         array: [10 10 20 20 30 30]\n",
        "\n",
        "# b. Write a numpy program to compare two given arrays.\n",
        "#           array a: [1 2], array b: [4 5] \n",
        "\n",
        "# c. Write a numpy program to calculate the arithmetic means of corresponding elements of two given arrays of the same size.\n",
        "#           array a: ([[2, 5, 2], [1, 5, 5]]) b: ([[5, 3, 4],  [3, 2, 5]]) \n",
        "\n",
        "# d. Write a numpy program to replace the negative values in a numpy array with 0.\n",
        "#           array: [-1 -4 0 2 3 4 5 -6]"
      ]
    },
    {
      "cell_type": "code",
      "metadata": {
        "colab": {
          "base_uri": "https://localhost:8080/"
        },
        "id": "IzXPnn5FjFET",
        "outputId": "eaffbdfa-250b-46d3-8785-e62067bee8a9"
      },
      "source": [
        "import numpy as np\n",
        "\n",
        "# Part 1A\n",
        "a = np.array([10,10,20,20,30,30])\n",
        "print(np.unique(a))\n",
        "\n",
        "# Part 1B\n",
        "b1 = np.array([1,2])\n",
        "b2 = np.array([4,5])\n",
        "print(\"B1 greater than B2\",np.greater(b1,b2))\n",
        "print(\"B1 greater than B2\",np.greater_equal(b1,b2))\n",
        "print(\"B1 greater than B2\",np.less(b1,b2))\n",
        "print(\"B1 greater than B2\",np.less_equal(b1,b2))\n",
        "\n",
        "# Part 1C\n",
        "c1 = np.array([[2,5,2],[1,5,5]])\n",
        "c2 = np.array([[5,3,4],[3,2,5]])\n",
        "\n",
        "c_sum = np.add(c1,c2)\n",
        "c_mean = np.divide(c_sum,2)\n",
        "print(c_mean)\n",
        "\n",
        "# Part 1D\n",
        "d = np.array([-1, -4, 0, 2, 3, 4, 5, -6])\n",
        "d_zeroed = np.where(d<0, 0, d)\n",
        "print(d_zeroed)"
      ],
      "execution_count": 1,
      "outputs": [
        {
          "output_type": "stream",
          "text": [
            "[10 20 30]\n",
            "B1 greater than B2 [False False]\n",
            "B1 greater than B2 [False False]\n",
            "B1 greater than B2 [ True  True]\n",
            "B1 greater than B2 [ True  True]\n",
            "[[3.5 4.  3. ]\n",
            " [2.  3.5 5. ]]\n",
            "[0 0 0 2 3 4 5 0]\n"
          ],
          "name": "stdout"
        }
      ]
    },
    {
      "cell_type": "markdown",
      "metadata": {
        "id": "fBnHALB8jIzc"
      },
      "source": [
        "# ques 2.\n",
        "\n",
        "# a. an array of integers is given, both +ve and -ve. You need to find the two elements such that their sum is closest to zero.\n",
        "\n",
        "#       array: [1, 90, -20, 10, -90, 85]\n",
        "\n",
        "# b. Given four arrays containing integer elements and an integer sum, the task is to count the quadruplets such that each element is chosen from a different array and the sum of all the four elements is equal to the given sum.\n",
        "\n",
        "# for example:\n",
        "\n",
        "# p = [ 2, 2]\n",
        "\n",
        "# q = [-3, -2]\n",
        "\n",
        "# r = [5, 1]\n",
        "\n",
        "# s = [ 9, -1]\n",
        "\n",
        "# sum = 3\n",
        "\n",
        "# expected output : 2\n"
      ]
    },
    {
      "cell_type": "code",
      "metadata": {
        "colab": {
          "base_uri": "https://localhost:8080/"
        },
        "id": "SMS81e7kjLfT",
        "outputId": "b193eab7-6979-4c63-f3bd-786c1fd704bf"
      },
      "source": [
        "# Part 2A\n",
        "a = [1,90,-20,10,-90,85]\n",
        "l = 0\n",
        "r = len(a)-1\n",
        "print(r)\n",
        "b = sorted(a)\n",
        "print(b)\n",
        "min_sum = 34686797568\n",
        "min_l, min_r, sum_b = 0,0,0\n",
        "\n",
        "while l<r:\n",
        "\tsum_b = b[l]+b[r]\n",
        "\n",
        "\tif (abs(sum_b) <= abs(min_sum)):\n",
        "\t\tmin_sum = sum_b\n",
        "\t\tmin_l = l\n",
        "\t\tmin_r = r\n",
        "\t\tif(sum_b<0):\n",
        "\t\t\tl+=1\n",
        "\t\telse:\n",
        "\t\t\tr-=1\n",
        "\tif sum_b == 0:\n",
        "\t\tbreak\n",
        "\t\n",
        "print(\"Sum is:\",b[min_l],b[min_r])"
      ],
      "execution_count": 2,
      "outputs": [
        {
          "output_type": "stream",
          "text": [
            "5\n",
            "[-90, -20, 1, 10, 85, 90]\n",
            "Sum is: -90 90\n"
          ],
          "name": "stdout"
        }
      ]
    },
    {
      "cell_type": "markdown",
      "metadata": {
        "id": "tRKcpr_KjNgT"
      },
      "source": [
        "# ques 3. \n",
        "\n",
        "# a. Given an array of random numbers, push all the zeros of a given array to the end of the array. The order of all other elements should be the same.\n",
        "# for example:\n",
        "\n",
        "# input array: [3, 6, 8, 8, 0, 0, 1, 4, 0, 6, 0, 5]\n",
        "\n",
        "# output array: [3, 6, 8, 8, 1, 4, 6, 5, 0, 0, 0, 0]\n",
        "\n",
        "# b. Given an array of distinct elements. The task is to find triplets in the array whose sum is zero.\n",
        "# example:\n",
        "\n",
        "# input : [0, -2, 1, -3, 1]\n",
        "\n",
        "# output : [-2, 1, 1]"
      ]
    },
    {
      "cell_type": "code",
      "metadata": {
        "colab": {
          "base_uri": "https://localhost:8080/"
        },
        "id": "Yv_StI4tjPty",
        "outputId": "6d261533-a185-4a8a-be4b-487672033562"
      },
      "source": [
        "# Part 3A\n",
        "arr = [3, 6, 8, 8, 0, 0, 1, 4, 0, 6, 0, 5]\n",
        "\n",
        "for i in arr:\n",
        "\tif i == 0:\n",
        "\t\tarr.remove(i)\n",
        "\t\tarr.append(i)\n",
        "\n",
        "# print(arr)\n",
        "\n",
        "# Part 3B\n",
        "arr2 = [0, -2, 1, -3, 1]\n",
        "found = False\n",
        "\n",
        "arr2.sort()\n",
        "\n",
        "for i in range(0, len(arr2)):\n",
        "\tl = i+1\n",
        "\tr = len(arr2)-1\n",
        "\tx = arr2[i]\n",
        "\twhile l<r:\n",
        "\t\tif (x+arr2[l]+arr2[r]==0):\n",
        "\t\t\tprint(x,arr2[l],arr2[r])\n",
        "\t\t\tl+=1\n",
        "\t\t\tr+=1\n",
        "\t\t\tfound = True\n",
        "\t\t\tif found == True:\n",
        "\t\t\t\tbreak\n",
        "\t\telif (x+arr2[l]+arr2[r]<0):\n",
        "\t\t\tl+=1\n",
        "\t\telse:\n",
        "\t\t\tr-=1\n",
        "\n",
        "if found == False:\n",
        "\tprint(\"Not Such Triplet exist.\")\n",
        " "
      ],
      "execution_count": 3,
      "outputs": [
        {
          "output_type": "stream",
          "text": [
            "-2 1 1\n"
          ],
          "name": "stdout"
        }
      ]
    },
    {
      "cell_type": "markdown",
      "metadata": {
        "id": "xnu8UUK8jR0h"
      },
      "source": [
        "# ques 4. given an array a containing n integers. The task is to check whether the array is monotonic or not. An array is monotonic if it is either monotone increasing or monotone decreasing.\n",
        "\n",
        "# an array a is monotone increasing if for all i <= j, a[i] <= a[j]. An array a is monotone decreasing if for all i <= j, a[i] >= a[j].\n",
        "\n",
        "# return “true” if the given array a is monotonic else return “false” (without quotes).\n",
        "\n",
        "# example:\n",
        "\n",
        "# input : [7 6 4 4]\n",
        "# output : true"
      ]
    },
    {
      "cell_type": "code",
      "metadata": {
        "colab": {
          "base_uri": "https://localhost:8080/"
        },
        "id": "hkC8YBctjTvx",
        "outputId": "882ddc77-e479-478d-c569-90089d61b7e1"
      },
      "source": [
        "def check_monotonic(input_list, length_of_list):\n",
        "\tfor i in range(length_of_list):\n",
        "\t\tif sorted_mono[i] < sorted_mono[i+1]:\n",
        "\t\t\tpass\n",
        "\t\telse:\n",
        "\t\t\treturn True\n",
        "\n",
        "\tfor i in range(length_of_list):\n",
        "\t\tif sorted_mono[i+1] < sorted_mono[i]:\n",
        "\t\t\tpass\n",
        "\t\telse:\n",
        "\t\t\treturn True\n",
        "\n",
        "monotonic_list = [7,6,4,4]\n",
        "sorted_mono = sorted(monotonic_list)\n",
        "\n",
        "answers = check_monotonic(sorted_mono,len(monotonic_list))\n",
        "print(answers)"
      ],
      "execution_count": 4,
      "outputs": [
        {
          "output_type": "stream",
          "text": [
            "True\n"
          ],
          "name": "stdout"
        }
      ]
    },
    {
      "cell_type": "markdown",
      "metadata": {
        "id": "ImACMaDjjaJD"
      },
      "source": [
        "# ques 5. Write a numpy program to extract all the elements of the first row from a given (4x4) array.\n",
        "# original array:\n",
        "\n",
        "# [[ 0 1 2 3]\n",
        "\n",
        "# [ 4 5 6 7]\n",
        "\n",
        "# [ 8 9 10 11]\n",
        "\n",
        "# [12 13 14 15]]"
      ]
    },
    {
      "cell_type": "code",
      "metadata": {
        "colab": {
          "base_uri": "https://localhost:8080/"
        },
        "id": "j36IuWROjXp7",
        "outputId": "3e315b3b-00f8-46e4-dbda-95a93299cb1b"
      },
      "source": [
        "\n",
        "import numpy as np\n",
        "arra_data = np.arange(0,16).reshape((4, 4))\n",
        "print(\"Original array:\")\n",
        "print(arra_data)\n",
        "print(\"\\nExtracted data: First row\")\n",
        "print(arra_data[0])"
      ],
      "execution_count": 5,
      "outputs": [
        {
          "output_type": "stream",
          "text": [
            "Original array:\n",
            "[[ 0  1  2  3]\n",
            " [ 4  5  6  7]\n",
            " [ 8  9 10 11]\n",
            " [12 13 14 15]]\n",
            "\n",
            "Extracted data: First row\n",
            "[0 1 2 3]\n"
          ],
          "name": "stdout"
        }
      ]
    },
    {
      "cell_type": "markdown",
      "metadata": {
        "id": "ZXMomm-EjrZs"
      },
      "source": [
        "# ques 6. let’s look at the game of craps. You roll two dice, and you win when you get a 7 as a sum of the numbers appearing on the dice. In total there are 6 ways to win. Roll 2 dice 400 times and see how many times you won. Use seed 24."
      ]
    },
    {
      "cell_type": "code",
      "metadata": {
        "colab": {
          "base_uri": "https://localhost:8080/",
          "height": 364
        },
        "id": "4RcqGbMiysn9",
        "outputId": "f27149a6-b593-4307-93b7-befc85df36f7"
      },
      "source": [
        "import numpy, pandas, random\n",
        "from scipy.stats import binom\n",
        "import matplotlib.pyplot as plt\n",
        "\n",
        "n = 400\n",
        "win_count = 0\n",
        "Lose_count = 0\n",
        "win_prob=0.5\n",
        "\n",
        "random.seed(24)\n",
        "for i in range(n):\n",
        "\ta=random.randint(1,7)\n",
        "\tb=random.randint(1,7)\n",
        "\tif a+b == 7 or a+b > 7:\n",
        "\t\twin_count+=1\n",
        "\telse:\n",
        "\t\tLose_count+=1\n",
        "\n",
        "print(\"Win: \",win_count)\n",
        "print(\"Lose: \",Lose_count)\n",
        "\n",
        "mean, var = binom.stats(n,win_prob)\n",
        "values = [1,2,3,4,5,6,7,8,9,10,11,12]\n",
        "dist = [binom.pmf(r,n,win_prob) for r in values]\n",
        "\n",
        "print(mean,var)\n",
        "print(dist)\n",
        "\n",
        "plt.bar(values, dist)\n",
        "plt.show()"
      ],
      "execution_count": 6,
      "outputs": [
        {
          "output_type": "stream",
          "text": [
            "Win:  277\n",
            "Lose:  123\n",
            "200.0 100.0\n",
            "[1.5490367659398693e-118, 3.090328348048851e-116, 4.099835608412403e-114, 4.0690868413498093e-112, 3.222716778348791e-110, 2.121621879078778e-108, 1.1941700290821868e-106, 5.866360267863015e-105, 2.5551258055584763e-103, 9.990541899735823e-102, 3.5421012189957866e-100, 1.1482311451583892e-98]\n"
          ],
          "name": "stdout"
        },
        {
          "output_type": "display_data",
          "data": {
            "image/png": "[encoded data removed]",
            "text/plain": [
              "<Figure size 432x288 with 1 Axes>"
            ]
          },
          "metadata": {
            "needs_background": "light"
          }
        }
      ]
    },
    {
      "cell_type": "markdown",
      "metadata": {
        "id": "hPPd9lRqy00D"
      },
      "source": [
        "# ques 7. Plot the following distributions:\n",
        "\n",
        "# a distribution that varies at equal probability between 2 and -2.\n",
        "# you want to be able to pick random item from a list. For example, say that you want to choose randomly between red, green, and blue, such that the probability of green being picked is twice that of the others (hint- use random.choice())"
      ]
    },
    {
      "cell_type": "code",
      "metadata": {
        "colab": {
          "base_uri": "https://localhost:8080/",
          "height": 316
        },
        "id": "RD_hICvpzGjO",
        "outputId": "3caaa5a5-9de8-492e-f7d4-09a7fd42f85d"
      },
      "source": [
        "import numpy, pandas, random\n",
        "from scipy.stats import binom\n",
        "import matplotlib.pyplot as plt\n",
        "from collections import Counter\n",
        "\n",
        "# Part 1\n",
        "n = 5\n",
        "p = 0.5\n",
        "\n",
        "r_values = list(range(-2,3))\n",
        "\n",
        "mean, var = binom.stats(n,p)\n",
        "\n",
        "dist = [binom.pmf(r,n,p) for r in r_values]\n",
        "\n",
        "plt.bar(r_values, dist)\n",
        "plt.show()\n",
        "\n",
        "# Part 2\n",
        "l=['red','green','blue','green']\n",
        "d = Counter(l)\n",
        "print('Probability of {} is {} '.format(\"Red\", (d[\"red\"]/4)))\n",
        "print('Probability of {} is {} '.format(\"Red\", (d[\"blue\"]/4)))\n",
        "print('Probability of {} is {} '.format(\"Red\", (d[\"green\"]/4)))"
      ],
      "execution_count": 8,
      "outputs": [
        {
          "output_type": "display_data",
          "data": {
            "image/png": "[encoded data removed]",
            "text/plain": [
              "<Figure size 432x288 with 1 Axes>"
            ]
          },
          "metadata": {
            "needs_background": "light"
          }
        },
        {
          "output_type": "stream",
          "text": [
            "Probability of Red is 0.25 \n",
            "Probability of Red is 0.25 \n",
            "Probability of Red is 0.5 \n"
          ],
          "name": "stdout"
        }
      ]
    }
  ]
}