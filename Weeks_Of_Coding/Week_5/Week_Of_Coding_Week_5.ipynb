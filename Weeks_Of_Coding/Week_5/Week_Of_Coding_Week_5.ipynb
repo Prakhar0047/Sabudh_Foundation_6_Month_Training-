{
  "nbformat": 4,
  "nbformat_minor": 0,
  "metadata": {
    "colab": {
      "name": "Week_Of_Coding_Week_5.ipynb",
      "provenance": []
    },
    "kernelspec": {
      "name": "python3",
      "display_name": "Python 3"
    },
    "language_info": {
      "name": "python"
    }
  },
  "cells": [
    {
      "cell_type": "markdown",
      "metadata": {
        "id": "kCQxXT5Rt9iV"
      },
      "source": [
        "Q1. Using scipy’s quad function, write a program that solves the following integral numerically:"
      ]
    },
    {
      "cell_type": "code",
      "metadata": {
        "colab": {
          "base_uri": "https://localhost:8080/"
        },
        "id": "cr5Q_HqEr8TW",
        "outputId": "bf2e4fe1-6c05-4fa7-eaaf-05baa1f5fce2"
      },
      "source": [
        "from scipy import integrate\n",
        "import numpy as np\n",
        "\n",
        "def f(x):\n",
        "    return np.exp(x)\n",
        "\n",
        "def bounds_y():\n",
        "    return [0, 0.5]\n",
        "\n",
        "x = integrate.nquad(f,[bounds_y])\n",
        "print(x)"
      ],
      "execution_count": null,
      "outputs": [
        {
          "output_type": "stream",
          "name": "stdout",
          "text": [
            "(0.6487212707001281, 7.202252912953711e-15)\n"
          ]
        }
      ]
    },
    {
      "cell_type": "markdown",
      "metadata": {
        "id": "j8dRP08juDO4"
      },
      "source": [
        "Q2. Write a program that computes the solution y(t) of this ODE using the odeint algorithm:\n",
        "\n",
        "y(t) for t ∈ [0,2] \n",
        "\n",
        "with a given y(t*) = y* "
      ]
    },
    {
      "cell_type": "code",
      "metadata": {
        "id": "5_BnFIQIuH7Y"
      },
      "source": [
        ""
      ],
      "execution_count": null,
      "outputs": []
    },
    {
      "cell_type": "markdown",
      "metadata": {
        "id": "MtG2EBT3uIUh"
      },
      "source": [
        "Q3. Write a program with the name sqrttwo.py to determine roots of f(x) = (x^3)- 2 (x^2) using the bisection algorithm and fsolve function. Choose a tolerance for the approximation of the root of 10^-8."
      ]
    },
    {
      "cell_type": "code",
      "metadata": {
        "colab": {
          "base_uri": "https://localhost:8080/"
        },
        "id": "nA84zmKYuPip",
        "outputId": "b878c709-e270-494e-a73f-bb7c0fb1aaa8"
      },
      "source": [
        "import numpy as np\n",
        "from scipy.optimize import fsolve\n",
        "\n",
        "def f(x):\n",
        "\treturn (x**3)-(2*(x**2))\n",
        "\n",
        "def bi(a,b,tolarence):\n",
        "\tleft_x = a\n",
        "\tright_x = b\n",
        "\twhile (np.abs(left_x-right_x) >= tolarence):\n",
        "\t\tc = (left_x+right_x)/2\n",
        "\t\tprod = f(left_x)*f(c)\n",
        "\t\tif prod > tolarence:\n",
        "\t\t\tleft_x = c\n",
        "\t\telse:\n",
        "\t\t\tif prod < tolarence:\n",
        "\t\t\t\tright_x = c\n",
        "\treturn c\n",
        "\n",
        "answer = bi(-5,5,1e-8)\n",
        "print(\"BiSection Answer :\",answer)\n",
        "\n",
        "quike = fsolve(f,[-1.5,1.5])\n",
        "print(quike)"
      ],
      "execution_count": null,
      "outputs": [
        {
          "output_type": "stream",
          "name": "stdout",
          "text": [
            "BiSection Answer : -0.007019033655524254\n",
            "[-1.34490024e-09  2.00000000e+00]\n"
          ]
        }
      ]
    },
    {
      "cell_type": "markdown",
      "metadata": {
        "id": "YMhPEVwluU5K"
      },
      "source": [
        "Q4. What is the process for stopping and restarting a Docker container"
      ]
    },
    {
      "cell_type": "code",
      "metadata": {
        "id": "cBl6FVPnugO5"
      },
      "source": [
        "# TO STOP DOCKER CONTAINER\n",
        "# docker container stop CONTAINER_ID\n",
        "\n",
        "# TO RESTART DOCKER CONTAINER\n",
        "# docker container restart CONTAINER_ID"
      ],
      "execution_count": null,
      "outputs": []
    },
    {
      "cell_type": "markdown",
      "metadata": {
        "id": "eobn8mfEugy3"
      },
      "source": [
        "Q5. How to remove Docker images"
      ]
    },
    {
      "cell_type": "code",
      "metadata": {
        "id": "zD4kE3FKujd_"
      },
      "source": [
        "#  docker image rm [OPTIONS] IMAGE [IMAGE...]"
      ],
      "execution_count": null,
      "outputs": []
    },
    {
      "cell_type": "markdown",
      "metadata": {
        "id": "OxA4lQX-ulCP"
      },
      "source": [
        "Q6. What command should be run to view all the running Docker containers"
      ]
    },
    {
      "cell_type": "code",
      "metadata": {
        "id": "5i2XsVMZuoOX"
      },
      "source": [
        "# ls is the docker cmd to list all running container"
      ],
      "execution_count": null,
      "outputs": []
    }
  ]
}