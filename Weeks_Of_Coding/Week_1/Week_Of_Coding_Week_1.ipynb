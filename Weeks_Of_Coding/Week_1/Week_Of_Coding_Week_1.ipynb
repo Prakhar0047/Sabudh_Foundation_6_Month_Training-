{
  "nbformat": 4,
  "nbformat_minor": 0,
  "metadata": {
    "colab": {
      "name": "Week_Of_Coding_Week_1.ipynb",
      "provenance": []
    },
    "kernelspec": {
      "name": "python3",
      "display_name": "Python 3"
    },
    "language_info": {
      "name": "python"
    }
  },
  "cells": [
    {
      "cell_type": "markdown",
      "metadata": {
        "id": "tbV3fZdu0b8b"
      },
      "source": [
        "# Q1. Write a Pandas program to add, subtract, multiple and divide two Pandas Series.\n",
        "# Sample Series: [12, 14, 16, 18, 20], [11, 13, 15, 17, 19]"
      ]
    },
    {
      "cell_type": "code",
      "metadata": {
        "colab": {
          "base_uri": "https://localhost:8080/"
        },
        "id": "Bv26zyHI0his",
        "outputId": "b56b4f50-e68d-41a2-f752-1c60d4dd35e9"
      },
      "source": [
        "import pandas as pd\n",
        "\n",
        "s1 = pd.Series(data=[12,14,16,18,20])\n",
        "s2 = pd.Series(data=[11,13,15,17,19])\n",
        "\n",
        "output_add = s1.add(s2)\n",
        "print(\"Addition\")\n",
        "print(output_add)\n",
        "print(\"\\n\")\n",
        "\n",
        "output_sub = s1.subtract(s2)\n",
        "print(\"Substration\")\n",
        "print(output_sub)\n",
        "print(\"\\n\")\n",
        "\n",
        "output_multiply = s1.mul(s2)\n",
        "print(\"Multiply\")\n",
        "print(output_multiply)\n",
        "print(\"\\n\")\n",
        "\n",
        "output_division = s1.div(s2)\n",
        "print(\"Division\")\n",
        "print(output_division)\n",
        "print(\"\\n\")"
      ],
      "execution_count": 10,
      "outputs": [
        {
          "output_type": "stream",
          "text": [
            "Addition\n",
            "0    23\n",
            "1    27\n",
            "2    31\n",
            "3    35\n",
            "4    39\n",
            "dtype: int64\n",
            "\n",
            "\n",
            "Substration\n",
            "0    1\n",
            "1    1\n",
            "2    1\n",
            "3    1\n",
            "4    1\n",
            "dtype: int64\n",
            "\n",
            "\n",
            "Multiply\n",
            "0    132\n",
            "1    182\n",
            "2    240\n",
            "3    306\n",
            "4    380\n",
            "dtype: int64\n",
            "\n",
            "\n",
            "Division\n",
            "0    1.090909\n",
            "1    1.076923\n",
            "2    1.066667\n",
            "3    1.058824\n",
            "4    1.052632\n",
            "dtype: float64\n",
            "\n",
            "\n"
          ],
          "name": "stdout"
        }
      ]
    },
    {
      "cell_type": "markdown",
      "metadata": {
        "id": "kGYrfDnr0q_b"
      },
      "source": [
        "# Ques 2. Create a DataFrame directly from the url provided. Set Month as index and rename the column \"1960\" to \"1961\" .\n",
        "\n",
        "# Url = https://people.sc.fsu.edu/~jburkardt/data/csv/airtravel.csv"
      ]
    },
    {
      "cell_type": "code",
      "metadata": {
        "colab": {
          "base_uri": "https://localhost:8080/"
        },
        "id": "rQZnnLk20rfy",
        "outputId": "8be59321-d580-4d18-a802-5a02a20b1580"
      },
      "source": [
        "import pandas as pd\n",
        "\n",
        "Q2_df = pd.read_csv(\"https://people.sc.fsu.edu/~jburkardt/data/csv/airtravel.csv\")\n",
        "Q2_column = Q2_df.columns\n",
        "print(Q2_column)\n",
        "print(\"\\n\")\n",
        "Q2_df.set_index(\"Month\", inplace=True)\n",
        "Q2_df.rename(columns={' \"1960\"' : ' \"1961\"'}, inplace=True)\n",
        "\n",
        "print(Q2_df.head())"
      ],
      "execution_count": 11,
      "outputs": [
        {
          "output_type": "stream",
          "text": [
            "Index(['Month', ' \"1958\"', ' \"1959\"', ' \"1960\"'], dtype='object')\n",
            "\n",
            "\n",
            "        \"1958\"   \"1959\"   \"1961\"\n",
            "Month                           \n",
            "JAN        340      360      417\n",
            "FEB        318      342      391\n",
            "MAR        362      406      419\n",
            "APR        348      396      461\n",
            "MAY        363      420      472\n"
          ],
          "name": "stdout"
        }
      ]
    },
    {
      "cell_type": "markdown",
      "metadata": {
        "id": "lep32piU0_u7"
      },
      "source": [
        "# Ques 3. Create a new DataFrame which has the data “ 'numbers': [1, 2, 3], 'colors': ['red', 'white', 'blue'] ”. Now create a new DataFrame which has the data “ 'numbers': [5, 6, 7], 'colors': ['gray', 'gold', 'silver'] ”. Append the new DataFrame into the old one."
      ]
    },
    {
      "cell_type": "code",
      "metadata": {
        "colab": {
          "base_uri": "https://localhost:8080/"
        },
        "id": "uSKWtZ4P1FQD",
        "outputId": "e134867f-3684-414a-98a7-7e825bc18995"
      },
      "source": [
        "import pandas as pd\n",
        "\n",
        "df1 = pd.DataFrame(data=[[1,'red'],[2,'white'],[3,'blue']], columns=['numbers','colors'])\n",
        "df2 = pd.DataFrame(data=[[4,'gray'],[5,'gold'],[6,'silver']], columns=['numbers','colors'])\n",
        "\n",
        "final = df1.append(df2, ignore_index=True)\n",
        "\n",
        "print(final)"
      ],
      "execution_count": 12,
      "outputs": [
        {
          "output_type": "stream",
          "text": [
            "   numbers  colors\n",
            "0        1     red\n",
            "1        2   white\n",
            "2        3    blue\n",
            "3        4    gray\n",
            "4        5    gold\n",
            "5        6  silver\n"
          ],
          "name": "stdout"
        }
      ]
    },
    {
      "cell_type": "markdown",
      "metadata": {
        "id": "gKYnIy_Z1Lyc"
      },
      "source": [
        "# Ques 4. \n",
        "# A. Write a Python program to calculate the length of a string without using len() function.\n",
        "# B. Write a Python program to sum all the items in a list without using sum() function."
      ]
    },
    {
      "cell_type": "code",
      "metadata": {
        "colab": {
          "base_uri": "https://localhost:8080/"
        },
        "id": "VerPH0F81RzE",
        "outputId": "f41f0e67-da1a-4e9a-9189-ea80bb5846af"
      },
      "source": [
        "# Part 1\n",
        "\n",
        "def str_lengeth(input_string):\n",
        "\tcount = 0\n",
        "\n",
        "\tfor i in input_string:\n",
        "\t\tcount+=1\n",
        "\n",
        "\treturn count\n",
        "\n",
        "# Part 2\n",
        "\n",
        "def sum_list(input_list):\n",
        "\ttotal = 0\n",
        "\n",
        "\tfor i in input_list:\n",
        "\t\ttotal+=i\n",
        "\n",
        "\treturn total\n",
        "\n",
        "s = \"Training Assignment at Sabudh\"\n",
        "l = [1,2,3,4,5,6,7,8,9,10]\n",
        "\n",
        "str_len = str_lengeth(s)\n",
        "list_sum = sum_list(l)\n",
        "\n",
        "print(\"Length of String\",str_len)\n",
        "print(\"\\n\")\n",
        "print(\"Sum of All Item in List\", list_sum)"
      ],
      "execution_count": 13,
      "outputs": [
        {
          "output_type": "stream",
          "text": [
            "Length of String 29\n",
            "\n",
            "\n",
            "Sum of All Item in List 55\n"
          ],
          "name": "stdout"
        }
      ]
    },
    {
      "cell_type": "markdown",
      "metadata": {
        "id": "tT7oNSBF1W10"
      },
      "source": [
        "# Ques 5.\n",
        "# A. Write a Python program to add a key to a dictionary.\n",
        "# B. Write a Python program to concatenate following dictionaries to create a new one.\n",
        "\n",
        "# Data:\n",
        "# {1:'RED', 2:'BLUE'}, {3:'GREEN', 4:'YELLOW'}, {5:'PURPLE',6:'ORANGE'}"
      ]
    },
    {
      "cell_type": "code",
      "metadata": {
        "colab": {
          "base_uri": "https://localhost:8080/"
        },
        "id": "4oVN7GW31bYD",
        "outputId": "98ba73b1-b8c2-4521-a88e-a06d81346097"
      },
      "source": [
        "# Part 1\n",
        "e_dict = {}\n",
        "e_dict['New_Key'] = 47\n",
        "\n",
        "# Part 2\n",
        "sample_dict_1 = {1:'Red', 2:'Blue'}\n",
        "sample_dict_2 = {3:'Green', 4:'Yellow'}\n",
        "sample_dict_3 = {5:'Purple', 6:'Orange'}\n",
        "\n",
        "in_dict = [sample_dict_1, sample_dict_2, sample_dict_3]\n",
        "\n",
        "def dict_merger(input_dict):\n",
        "\tfinal = {}\n",
        "\n",
        "\tfor i in input_dict:\n",
        "\t\tfinal.update(i)\n",
        "\treturn final\n",
        "\n",
        "final_dict = dict_merger(in_dict)\n",
        "print(final_dict)"
      ],
      "execution_count": 14,
      "outputs": [
        {
          "output_type": "stream",
          "text": [
            "{1: 'Red', 2: 'Blue', 3: 'Green', 4: 'Yellow', 5: 'Purple', 6: 'Orange'}\n"
          ],
          "name": "stdout"
        }
      ]
    },
    {
      "cell_type": "markdown",
      "metadata": {
        "id": "RreGmgzr1eQE"
      },
      "source": [
        "# Ques 6.\n",
        "# A. Write a Python program to create a set.\n",
        "# B. Write a Python program to create a tuple with different data types."
      ]
    },
    {
      "cell_type": "code",
      "metadata": {
        "colab": {
          "base_uri": "https://localhost:8080/"
        },
        "id": "qovfnopU1iGs",
        "outputId": "065291cd-eacf-4ebc-920a-6e7a9b23b5f5"
      },
      "source": [
        "x = int(input(\"Enter Number of Element in Set: \"))\n",
        "s = set()\n",
        "for i in range(x):\n",
        "\ta = input(\"Enter values for Set: \")\n",
        "\ts.add(a)\n",
        "\n",
        "print(s)\n",
        "print(\"\\n\")\n",
        "\n",
        "# Part 2\n",
        "\n",
        "tuple_ele = int(input(\"Enter Number of Element in Tuple: \"))\n",
        "l = []\n",
        "\n",
        "for i in range(tuple_ele):\n",
        "\ta = input(\"Enter Element of Tuple: \")\n",
        "\tl.append(a)\n",
        "\t\n",
        "print(tuple(l))"
      ],
      "execution_count": 15,
      "outputs": [
        {
          "output_type": "stream",
          "text": [
            "Enter Number of Element in Set: 4\n",
            "Enter values for Set: 1\n",
            "Enter values for Set: 3\n",
            "Enter values for Set: 5\n",
            "Enter values for Set: 65\n",
            "{'1', '5', '65', '3'}\n",
            "\n",
            "\n",
            "Enter Number of Element in Tuple: 4\n",
            "Enter Element of Tuple: 1\n",
            "Enter Element of Tuple: Python\n",
            "Enter Element of Tuple: 4.34\n",
            "Enter Element of Tuple: 8\n",
            "('1', 'Python', '4.34', '8')\n"
          ],
          "name": "stdout"
        }
      ]
    },
    {
      "cell_type": "markdown",
      "metadata": {
        "id": "dEKc48Ak1yak"
      },
      "source": [
        "# Ques 7.\n",
        "# 1. Write a Python program to test whether a passed letter is a vowel or not.\n",
        "\n",
        "# 2. Write a Python program to display the current date and time.\n",
        "\n",
        "\t# Sample Output :\n",
        "\t# Current date and time :\n",
        "\t# 2021-07-16 05:54:38\n",
        "\n",
        "# 3. Write a Python program to display the first and last colors from the following list.\n",
        "\t# color_list = [\"Red\",\"Green\",\"White\" ,\"Black\"]\n",
        "\n",
        "# 4. Write a python program to generate a random number from the range 0,60 and using seed 100."
      ]
    },
    {
      "cell_type": "code",
      "metadata": {
        "colab": {
          "base_uri": "https://localhost:8080/"
        },
        "id": "s8NaCkTt12IT",
        "outputId": "c41bb4aa-6dd2-4828-e518-d8afbb576402"
      },
      "source": [
        "# Part 1\n",
        "_str = input(\"Enter the letter/Alphabet: \")\n",
        "vowels = ['a','e','i','o','u']\n",
        "_str = _str.lower()\n",
        "\n",
        "if _str in vowels:\n",
        "\tprint(\"Yes it is a vowel.\")\n",
        "else:\n",
        "\tprint(\"No it is not a vowel.\")\n",
        "print(\"\\n\")\n",
        "\n",
        "# Part 2\n",
        "import datetime \n",
        "now = datetime.datetime.now()\n",
        "print (\"Current date and time : \")\n",
        "print (now.strftime(\"%Y-%m-%d %H:%M:%S\"))\n",
        "print(\"\\n\")\n",
        "\n",
        "# Part 3\n",
        "color_list = [\"Red\",\"Green\",\"White\" ,\"Black\"]\n",
        "print(\"First\",color_list[0])\n",
        "print(\"Last\",color_list[-1])\n",
        "print(\"\\n\")\n",
        "\n",
        "# Part 4\n",
        "import random\n",
        "random.seed(100)\n",
        "print(\"Random: \",random.randrange(60))\n",
        "print(\"\\n\")"
      ],
      "execution_count": 16,
      "outputs": [
        {
          "output_type": "stream",
          "text": [
            "Enter the letter/Alphabet: a\n",
            "Yes it is a vowel.\n",
            "\n",
            "\n",
            "Current date and time : \n",
            "2021-07-26 08:06:28\n",
            "\n",
            "\n",
            "First Red\n",
            "Last Black\n",
            "\n",
            "\n",
            "Random:  9\n",
            "\n",
            "\n"
          ],
          "name": "stdout"
        }
      ]
    }
  ]
}