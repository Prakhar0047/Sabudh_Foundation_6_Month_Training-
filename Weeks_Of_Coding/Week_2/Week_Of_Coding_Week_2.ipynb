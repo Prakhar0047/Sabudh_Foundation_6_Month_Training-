{
  "nbformat": 4,
  "nbformat_minor": 0,
  "metadata": {
    "colab": {
      "name": "Week_Of_Coding_Week_2.ipynb",
      "provenance": []
    },
    "kernelspec": {
      "name": "python3",
      "display_name": "Python 3"
    },
    "language_info": {
      "name": "python"
    }
  },
  "cells": [
    {
      "cell_type": "markdown",
      "metadata": {
        "id": "BqTjlOStAHN7"
      },
      "source": [
        "## Ques 1. (a). Write a Python program to count the number of even and odd numbers from a series of numbers. Sample numbers : numbers = (1, 2, 3, 4, 5, 6, 7, 8, 9) \n",
        "\n",
        "## (b).  Write a Python function to sum all the numbers in a list."
      ]
    },
    {
      "cell_type": "code",
      "metadata": {
        "colab": {
          "base_uri": "https://localhost:8080/"
        },
        "id": "9Bk44CwM_2iS",
        "outputId": "3c3390f1-4fe7-4da1-c1f7-61fd0ae4d2c3"
      },
      "source": [
        "# Part 1a\n",
        "def count_even_odd(l):\n",
        "\tod, ev = 0, 0\n",
        "\tfor i in l:\n",
        "\t\tif i%2 == 0:\n",
        "\t\t\tev+=1\n",
        "\t\telse:\n",
        "\t\t\tod+=1\n",
        "\treturn [od,ev]\n",
        "\n",
        "# Part 1b\n",
        "def summation(l):\n",
        "\ts = 0\n",
        "\tfor i in l:\n",
        "\t\ts+=i\n",
        "\t\n",
        "\treturn s\n",
        "\n",
        "List_of_number = [1,2,3,4,5,6,7,8,9]\n",
        "\n",
        "odev = count_even_odd(List_of_number)\n",
        "s = summation(List_of_number)\n",
        "\n",
        "print(\"Number Of Odds\",odev[0])\n",
        "print(\"Number Of Odds\",odev[1])\n",
        "print(\"Summation Of Given Number is: \",s)"
      ],
      "execution_count": null,
      "outputs": [
        {
          "output_type": "stream",
          "text": [
            "Number Of Odds 5\n",
            "Number Of Odds 4\n",
            "Summation Of Given Number is:  45\n"
          ],
          "name": "stdout"
        }
      ]
    },
    {
      "cell_type": "markdown",
      "metadata": {
        "id": "sN1Bwd31AVKi"
      },
      "source": [
        "## Ques 2. Write a Python program that prints all the numbers from 0 to 6 except 3 and 6.\n",
        "\n",
        "## Note : Use the 'continue' statement."
      ]
    },
    {
      "cell_type": "code",
      "metadata": {
        "colab": {
          "base_uri": "https://localhost:8080/"
        },
        "id": "w3t25_4WA-Py",
        "outputId": "3afc0107-e279-4ae7-8700-5044a5ed7104"
      },
      "source": [
        "for i in range(7):\n",
        "\tif i==3 or i==6:\n",
        "\t\tpass\n",
        "\telse:\n",
        "\t\tprint(i)"
      ],
      "execution_count": null,
      "outputs": [
        {
          "output_type": "stream",
          "text": [
            "0\n",
            "1\n",
            "2\n",
            "4\n",
            "5\n"
          ],
          "name": "stdout"
        }
      ]
    },
    {
      "cell_type": "markdown",
      "metadata": {
        "id": "1Wk87nhCBA9K"
      },
      "source": [
        "## Ques 3. Write a Python function to check whether a number falls in a given range. Where the range is 3 to 9."
      ]
    },
    {
      "cell_type": "code",
      "metadata": {
        "colab": {
          "base_uri": "https://localhost:8080/"
        },
        "id": "hXYvmpceCFWb",
        "outputId": "8aa7d25e-fb1e-406e-8bd8-2b1c101015a9"
      },
      "source": [
        "def check_range(n):\n",
        "\tif n>=2 and n<=9:\n",
        "\t\tprint(\"It falls under range.\")\n",
        "\telse:\n",
        "\t\tprint(\"It don't fall under range.\")\n",
        "\n",
        "check_range(1)\n",
        "check_range(43)\n",
        "check_range(7)"
      ],
      "execution_count": null,
      "outputs": [
        {
          "output_type": "stream",
          "text": [
            "It don't fall under range.\n",
            "It don't fall under range.\n",
            "It falls under range.\n"
          ],
          "name": "stdout"
        }
      ]
    },
    {
      "cell_type": "markdown",
      "metadata": {
        "id": "wFLpkqkpD2IE"
      },
      "source": [
        "## Ques 4. Write a Python program to create a lambda function that adds 15 to a given number passed in as an argument, also create a lambda function that multiplies argument x with argument y and prints the result.\n",
        "\n",
        "## Sample Output: 25 48."
      ]
    },
    {
      "cell_type": "code",
      "metadata": {
        "colab": {
          "base_uri": "https://localhost:8080/"
        },
        "id": "CKJGe8dRD4bj",
        "outputId": "bb3ed081-c622-4d04-ab2b-c9ff1c1745b5"
      },
      "source": [
        "def operation(ele1, ele2):\n",
        "\t\n",
        "\tpart_1 = lambda ele1: ele1 + 15\n",
        "\tpart_2 = lambda ele1,ele2: ele1*ele2\n",
        "\n",
        "\treturn [part_1(ele1), part_2(ele1,ele2)]\n",
        "\n",
        "answer = operation(25, 48)\n",
        "print(answer[0])\n",
        "print(answer[1])"
      ],
      "execution_count": null,
      "outputs": [
        {
          "output_type": "stream",
          "text": [
            "40\n",
            "1200\n"
          ],
          "name": "stdout"
        }
      ]
    },
    {
      "cell_type": "markdown",
      "metadata": {
        "id": "WbCMxmA6D9hV"
      },
      "source": [
        "## Ques 5. (a). Write a python program to create a Class and it's Object in Python.\n",
        "\n",
        "## (b). Write a python program to create and call Method of a Class in Python."
      ]
    },
    {
      "cell_type": "code",
      "metadata": {
        "colab": {
          "base_uri": "https://localhost:8080/"
        },
        "id": "cCJPF0B4EoYE",
        "outputId": "f7e445fa-6702-45a1-a3cf-6132e9f4bd8c"
      },
      "source": [
        "class operation:\n",
        "\n",
        "\tdef __init__(self):\n",
        "\t\t# __init__ function A.K.A Constructor \n",
        "\t\tpass\n",
        "\n",
        "\tdef operation_1(self):\n",
        "\t\tprint(\"Hi Class Fucntion was called\")\n",
        "\n",
        "x = operation() # Object\n",
        "\n",
        "x.operation_1()"
      ],
      "execution_count": null,
      "outputs": [
        {
          "output_type": "stream",
          "text": [
            "Hi Class Fucntion was called\n"
          ],
          "name": "stdout"
        }
      ]
    },
    {
      "cell_type": "markdown",
      "metadata": {
        "id": "CzW4QHdqEqyc"
      },
      "source": [
        "## Ques 6. Write a python program to create multiple instances of a class."
      ]
    },
    {
      "cell_type": "code",
      "metadata": {
        "colab": {
          "base_uri": "https://localhost:8080/"
        },
        "id": "7aIbfTA9F4xc",
        "outputId": "d1b339a7-dc83-440a-aebf-3b9063416dfe"
      },
      "source": [
        "class person:\n",
        "\t\n",
        "\tdef __init__(self, name):\n",
        "\t\tself.name = name\n",
        "\n",
        "\tdef introduce(self):\n",
        "\t\tprint(\"Hello My Name is \",self.name)\n",
        "\n",
        "a = person(\"Prakhar\")\n",
        "b = person(\"Prakhar II\")\n",
        "c = person(\"Prakhar III\")\n",
        "d = person(\"Prakhar IV\")\n",
        "\n",
        "a.introduce()\n",
        "b.introduce()\n",
        "c.introduce()\n",
        "d.introduce()"
      ],
      "execution_count": null,
      "outputs": [
        {
          "output_type": "stream",
          "text": [
            "Hello My Name is  Prakhar\n",
            "Hello My Name is  Prakhar II\n",
            "Hello My Name is  Prakhar III\n",
            "Hello My Name is  Prakhar IV\n"
          ],
          "name": "stdout"
        }
      ]
    },
    {
      "cell_type": "markdown",
      "metadata": {
        "id": "fUUOgqIFF6qc"
      },
      "source": [
        "## Ques 7. (a). Write a Python program to read an entire text file.\n",
        "## Sample Txt File: https://filesamples.com/samples/document/txt/sample1.txt\n",
        "\n",
        "## (b). Write a Python program to read first n lines of a file.\n",
        "## Sample Txt File: https://filesamples.com/samples/document/txt/sample1.txt"
      ]
    },
    {
      "cell_type": "code",
      "metadata": {
        "id": "IbjGJy7HGyNb"
      },
      "source": [
        "# Part 1\n",
        "\n",
        "file_object = open(\"C:/Users/prakh/Desktop/6_Month-Training/Weeks_Of_Coding/Week_2/Sample_Text_1.txt\")\n",
        "print(file_object.readlines())\n",
        "file_object.close()\n",
        "\n",
        "# Part 2\n",
        "\n",
        "file_object_2 = open(\"C:/Users/prakh/Desktop/6_Month-Training/Weeks_Of_Coding/Week_2/Sample_Text_1.txt\")\n",
        "\n",
        "for line in file_object_2.readlines():\n",
        "\tprint(line)"
      ],
      "execution_count": null,
      "outputs": []
    },
    {
      "cell_type": "markdown",
      "metadata": {
        "id": "5cGz944FztzU"
      },
      "source": [
        "![output_7.PNG](data:image/png;base64,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)\n",
        "\n",
        "---\n",
        "\n"
      ]
    }
  ]
}