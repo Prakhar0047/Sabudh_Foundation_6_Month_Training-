{
  "nbformat": 4,
  "nbformat_minor": 2,
  "metadata": {
    "colab": {
      "name": "ML_Logistic_regression.ipynb",
      "provenance": [],
      "collapsed_sections": []
    },
    "kernelspec": {
      "name": "python3",
      "display_name": "Python 3"
    },
    "language_info": {
      "name": "python"
    }
  },
  "cells": [
    {
      "cell_type": "code",
      "execution_count": null,
      "source": [
        "import numpy as np\r\n",
        "import random"
      ],
      "outputs": [],
      "metadata": {
        "id": "hdHLvc4lln6d"
      }
    },
    {
      "cell_type": "code",
      "execution_count": null,
      "source": [
        "class machine:\r\n",
        "  def linear_data_gen(self,n,m,sigma):\r\n",
        "    # Step 1: Data Generation for Regression\r\n",
        "    X = np.random.rand(n,m+1)\r\n",
        "    X[:,0] = 1\r\n",
        "\r\n",
        "    E = np.random.normal(0,sigma,(n,1))\r\n",
        "    B = np.random.rand(m+1,1)\r\n",
        "    Y = np.matmul(X,B) + E\r\n",
        "\r\n",
        "    return X,Y,B\r\n",
        "\r\n",
        "  def log_data_gen(self,n,m):\r\n",
        "    # Step 1: Data Generation for Logistic\r\n",
        "    X = np.random.rand(n,m)\r\n",
        "    X[:,0] = 1\r\n",
        "\r\n",
        "    B = np.random.rand(m+1,1)\r\n",
        "    weights = self.log_weight(X,B)\r\n",
        "    Y = self.logistic_sigmoid(weights)\r\n",
        "\r\n",
        "    return X,Y,B\r\n",
        "\r\n",
        "  def logistic_sigmoid(self,z):\r\n",
        "    # Step 3: Sigmoid\r\n",
        "    s = 1.0/(1.0 + np.exp(-1.0 * z))\r\n",
        "    print(s)\r\n",
        "    return s\r\n",
        "\r\n",
        "  def log_weight(self,x,beta):\r\n",
        "    # Step 2: Weights\r\n",
        "    z = np.dot(x,beta)\r\n",
        "    return z\r\n",
        "\r\n",
        "  def log_validate(self,z):\r\n",
        "    # Step 4: 0 - 1 mai sort krna ya change krna\r\n",
        "    binary_List = []\r\n",
        "    for x in self.logistic_sigmoid(z):\r\n",
        "      if x > 0.5:\r\n",
        "        binary_List.append([1])\r\n",
        "      else:\r\n",
        "        binary_List.append([0])\r\n",
        "    return binary_List\r\n",
        "\r\n",
        "  def log_noise(self,y_original,theta=0.5):\r\n",
        "    # Step 5: Generating Noise\r\n",
        "    # Generating Noise and making it equal to Y in Dimension.\r\n",
        "    \r\n",
        "    ys_orignal = np.array(y_original)\r\n",
        "    ys_i_dont_know = ys_orignal.shape\r\n",
        "    numberList = [0,1]\r\n",
        "    noice = []\r\n",
        "    for x in range(ys_i_dont_know[0]):\r\n",
        "      n = random.choices(numberList, weights=(1-theta,theta), k=1)\r\n",
        "      noice.append(n)\r\n",
        "    nn = np.array(noice)\r\n",
        "    nn.reshape(ys_i_dont_know[0],1)\r\n",
        "    return ys_orignal,nn\r\n",
        "  \r\n",
        "  def noice_changer(self,y_unchanged,noise):\r\n",
        "    # Step 6: Adjust Value of Y accordingly.\r\n",
        "    something = np.add(y_unchanged,noice)\r\n",
        "\r\n",
        "    for x in range(something.shape[0]):\r\n",
        "      if something[x][0] == 2:\r\n",
        "        something[x][0] = 0\r\n",
        "    print(something)\r\n",
        "    return something\r\n",
        "\r\n",
        "  def cost_function(self, X, y, beta):\r\n",
        "    # Step 7: Cost Function + derivative\r\n",
        "    # y == Actual y AKA Y from Step 1\r\n",
        "    z = np.dot(X, beta)\r\n",
        "    predict_1 = y * np.log(self.logistic_sigmoid(z))\r\n",
        "    predict_0 = (1 - y) * np.log(1 - self.logistic_sigmoid(z))\r\n",
        "    return -sum(predict_1 + predict_0) / len(X)\r\n",
        "\r\n",
        "  def logistic_predict(self, X, Y, beta, epochs = 500, threshold=100, learning=0.1):\r\n",
        "    # Step 8: Learning Stage\r\n",
        "    p = X.shape[0]\r\n",
        "    q = X.shape[1]\r\n",
        "\r\n",
        "    beta_new = np.random.rand(q,1)\r\n",
        "    old = 100000000000\r\n",
        "\r\n",
        "    for i in range(threshold):\r\n",
        "      y_ pred = np.matmul(X, beta_n)\r\n",
        "      new = cost(X, y_pred, beta)\r\n",
        "      if abs(old-new) <= t:\r\n",
        "        break\r\n",
        "      else:\r\n",
        "        old = new\r\n",
        "        beta_n = beta_n - (lr*log_deri())\r\n",
        "\r\n",
        "      return beta_new, new, y_pred\r\n"
      ],
      "outputs": [],
      "metadata": {
        "id": "Kzt3HTOhSgNO"
      }
    },
    {
      "cell_type": "code",
      "execution_count": null,
      "source": [
        "# Class Object\r\n",
        "log = machine()\r\n",
        "\r\n",
        "# Data Generation\r\n",
        "X,Y,B = log.log_data_gen(20,10)\r\n",
        "\r\n",
        "# Shapes\r\n",
        "print(X.shape)\r\n",
        "print(Y.shape)\r\n",
        "print(B.shape)"
      ],
      "outputs": [],
      "metadata": {
        "id": "4Rlk4_XIZGwv"
      }
    },
    {
      "cell_type": "code",
      "execution_count": null,
      "source": [
        "# Y kai weights (Z jo hai)\r\n",
        "Sigmoid_weight = log.log_weight(X,B)"
      ],
      "outputs": [],
      "metadata": {
        "id": "RBr7Al4xZsN3"
      }
    },
    {
      "cell_type": "code",
      "execution_count": null,
      "source": [
        "sigi = log.logistic_sigmoid(Sigmoid_weight)\r\n",
        "# 1-D Array Return Ke raha"
      ],
      "outputs": [],
      "metadata": {
        "id": "5kgPkk_5Z5hB"
      }
    },
    {
      "cell_type": "code",
      "execution_count": null,
      "source": [
        "validate = log.log_validate(Sigmoid_weight)\r\n",
        "validate"
      ],
      "outputs": [],
      "metadata": {
        "id": "LW9x6XTlaZtS"
      }
    },
    {
      "cell_type": "code",
      "execution_count": null,
      "source": [
        "y_unchanged,noice = log.log_noise(validate,0.3)\r\n",
        "print(\"Hi im y\",y_unchanged)\r\n",
        "print(\"Hi im noice\",noice)"
      ],
      "outputs": [],
      "metadata": {
        "id": "jtQrMvbhcI2H"
      }
    },
    {
      "cell_type": "code",
      "execution_count": null,
      "source": [
        "something = np.add(y_unchanged,noice)\r\n",
        "something.shape"
      ],
      "outputs": [],
      "metadata": {
        "id": "dro1HxR8kkxd"
      }
    },
    {
      "cell_type": "code",
      "execution_count": null,
      "source": [
        "a = log.noice_changer(y_unchanged,noice)"
      ],
      "outputs": [],
      "metadata": {
        "id": "9bmLQZly9iuz"
      }
    },
    {
      "cell_type": "code",
      "execution_count": null,
      "source": [
        "cost = log.cost_function(X,a,B)"
      ],
      "outputs": [],
      "metadata": {
        "id": "s6ce7Hu4EVbS"
      }
    }
  ]
}